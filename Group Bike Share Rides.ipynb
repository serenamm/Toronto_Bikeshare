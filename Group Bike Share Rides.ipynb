{
 "cells": [
  {
   "cell_type": "markdown",
   "metadata": {},
   "source": [
    "How often do people use Toronto Bike Share together in pairs or groups? Where are they most likely to go? Does this tell us anything about tourist destinations in Toronto? \n",
    "\n",
    "Of these pair/group trips, how many are of mixed membership types? This would tell us the types of trips- a local showing a non-local around, two (or more!) locals travelling together, two visitors travelling together.\n",
    "\n",
    "How far do people tend to bike?"
   ]
  },
  {
   "cell_type": "code",
   "execution_count": 1,
   "metadata": {
    "collapsed": true
   },
   "outputs": [],
   "source": [
    "import pandas as pd\n",
    "from datetime import datetime\n",
    "from datetime import timedelta\n",
    "import warnings\n",
    "warnings.filterwarnings('ignore')"
   ]
  },
  {
   "cell_type": "code",
   "execution_count": 2,
   "metadata": {},
   "outputs": [
    {
     "data": {
      "text/html": [
       "<div>\n",
       "<style>\n",
       "    .dataframe thead tr:only-child th {\n",
       "        text-align: right;\n",
       "    }\n",
       "\n",
       "    .dataframe thead th {\n",
       "        text-align: left;\n",
       "    }\n",
       "\n",
       "    .dataframe tbody tr th {\n",
       "        vertical-align: top;\n",
       "    }\n",
       "</style>\n",
       "<table border=\"1\" class=\"dataframe\">\n",
       "  <thead>\n",
       "    <tr style=\"text-align: right;\">\n",
       "      <th></th>\n",
       "      <th>trip_start_time</th>\n",
       "      <th>trip_stop_time</th>\n",
       "      <th>trip_duration_seconds</th>\n",
       "      <th>from_station_name</th>\n",
       "      <th>to_station_name</th>\n",
       "      <th>user_type</th>\n",
       "    </tr>\n",
       "    <tr>\n",
       "      <th>trip_id</th>\n",
       "      <th></th>\n",
       "      <th></th>\n",
       "      <th></th>\n",
       "      <th></th>\n",
       "      <th></th>\n",
       "      <th></th>\n",
       "    </tr>\n",
       "  </thead>\n",
       "  <tbody>\n",
       "    <tr>\n",
       "      <th>24008</th>\n",
       "      <td>7-1-16 0:00</td>\n",
       "      <td>7-1-16 0:08</td>\n",
       "      <td>505</td>\n",
       "      <td>College St W / Huron St</td>\n",
       "      <td>Queens Park / Bloor St W</td>\n",
       "      <td>Member</td>\n",
       "    </tr>\n",
       "    <tr>\n",
       "      <th>24009</th>\n",
       "      <td>7-1-16 0:00</td>\n",
       "      <td>7-1-16 0:10</td>\n",
       "      <td>603</td>\n",
       "      <td>Wellington St W / Bay St</td>\n",
       "      <td>King St W / Spadina Ave</td>\n",
       "      <td>Member</td>\n",
       "    </tr>\n",
       "    <tr>\n",
       "      <th>24010</th>\n",
       "      <td>7-1-16 0:00</td>\n",
       "      <td>7-1-16 0:42</td>\n",
       "      <td>2487</td>\n",
       "      <td>Bay St / Queens Quay W (Ferry Terminal)</td>\n",
       "      <td>York St / Queens Quay W</td>\n",
       "      <td>Casual</td>\n",
       "    </tr>\n",
       "    <tr>\n",
       "      <th>24011</th>\n",
       "      <td>7-1-16 0:01</td>\n",
       "      <td>7-1-16 0:07</td>\n",
       "      <td>399</td>\n",
       "      <td>Trinity St /Front St E</td>\n",
       "      <td>Princess St / Adelaide St</td>\n",
       "      <td>Member</td>\n",
       "    </tr>\n",
       "    <tr>\n",
       "      <th>24012</th>\n",
       "      <td>7-1-16 0:01</td>\n",
       "      <td>7-1-16 0:12</td>\n",
       "      <td>662</td>\n",
       "      <td>Simcoe St / Queen St W</td>\n",
       "      <td>Queen St W / Spadina Ave</td>\n",
       "      <td>Member</td>\n",
       "    </tr>\n",
       "  </tbody>\n",
       "</table>\n",
       "</div>"
      ],
      "text/plain": [
       "        trip_start_time trip_stop_time  trip_duration_seconds  \\\n",
       "trip_id                                                         \n",
       "24008       7-1-16 0:00    7-1-16 0:08                    505   \n",
       "24009       7-1-16 0:00    7-1-16 0:10                    603   \n",
       "24010       7-1-16 0:00    7-1-16 0:42                   2487   \n",
       "24011       7-1-16 0:01    7-1-16 0:07                    399   \n",
       "24012       7-1-16 0:01    7-1-16 0:12                    662   \n",
       "\n",
       "                               from_station_name            to_station_name  \\\n",
       "trip_id                                                                       \n",
       "24008                    College St W / Huron St   Queens Park / Bloor St W   \n",
       "24009                   Wellington St W / Bay St    King St W / Spadina Ave   \n",
       "24010    Bay St / Queens Quay W (Ferry Terminal)    York St / Queens Quay W   \n",
       "24011                     Trinity St /Front St E  Princess St / Adelaide St   \n",
       "24012                     Simcoe St / Queen St W   Queen St W / Spadina Ave   \n",
       "\n",
       "        user_type  \n",
       "trip_id            \n",
       "24008      Member  \n",
       "24009      Member  \n",
       "24010      Casual  \n",
       "24011      Member  \n",
       "24012      Member  "
      ]
     },
     "execution_count": 2,
     "metadata": {},
     "output_type": "execute_result"
    }
   ],
   "source": [
    "df = pd.read_csv(\"C:/Data/Projects/Toronto_Bikeshare/2016_Bike_Share_Toronto_Ridership_Q3.csv\")\n",
    "# Set index to be the trip id- is useful later\n",
    "df.set_index(\"trip_id\",inplace = True)\n",
    "df = df.sort_index(ascending = True)\n",
    "df.head(5)"
   ]
  },
  {
   "cell_type": "code",
   "execution_count": 3,
   "metadata": {
    "collapsed": true
   },
   "outputs": [],
   "source": [
    "def parse_date(data):\n",
    "    dt = datetime.strptime(data, \"%m-%d-%y %H:%M\")\n",
    "    parsed_date = datetime.strftime(dt, \"%m-%d-%y\")\n",
    "    return parsed_date\n",
    "\n",
    "def to_datetime(data):\n",
    "    dt = datetime.strptime(data, \"%m-%d-%y %H:%M\")\n",
    "    return dt"
   ]
  },
  {
   "cell_type": "code",
   "execution_count": 4,
   "metadata": {
    "collapsed": true
   },
   "outputs": [],
   "source": [
    "df[\"trip_date\"] = df[\"trip_start_time\"].apply(parse_date)\n",
    "df[\"trip_start_datetime\"] = df[\"trip_start_time\"].apply(to_datetime)\n",
    "df.dropna(inplace = True)\n",
    "df[\"trip_duration_seconds\"] = df[\"trip_duration_seconds\"].astype(int)"
   ]
  },
  {
   "cell_type": "code",
   "execution_count": 5,
   "metadata": {
    "collapsed": true
   },
   "outputs": [],
   "source": [
    "# Logic: Same first and last station, and similar start time- start on the same day and within 60 seconds\n",
    "same_first_station = (df[\"from_station_name\"] == (df.shift(-1)[\"from_station_name\"]))\n",
    "same_last_station = (df[\"to_station_name\"] == (df.shift(-1)[\"to_station_name\"]))\n",
    "similar_start = (df[\"trip_start_datetime\"] <= ((df.shift(-1)[\"trip_start_datetime\"])+timedelta(seconds = 60))) & \\\n",
    "                (df[\"trip_start_datetime\"] <= ((df.shift(-1)[\"trip_start_datetime\"])-timedelta(seconds = 60)))"
   ]
  },
  {
   "cell_type": "code",
   "execution_count": 6,
   "metadata": {
    "collapsed": true
   },
   "outputs": [],
   "source": [
    "# Get index of the first trip in the potential pair/group\n",
    "# Add one to these indices to get all the group trip id's\n",
    "first_in_group_index = df[same_first_station & same_last_station & similar_start].index\n",
    "add_to_index = first_in_group_index + 1\n",
    "# Get all group trips before splitting up by membership type\n",
    "group_trips = df.ix[add_to_index | first_in_group_index]\n",
    "group_trips.dropna(inplace =  True)\n",
    "keep_cols = [\"from_station_name\", \"to_station_name\", \"user_type\", \"trip_date\", \"trip_duration_seconds\"]\n",
    "group_trips = group_trips[keep_cols]"
   ]
  },
  {
   "cell_type": "code",
   "execution_count": 7,
   "metadata": {
    "collapsed": true
   },
   "outputs": [],
   "source": [
    "# Look at membership type\n",
    "# Mixed group\n",
    "mixed_type_index = group_trips[(group_trips[\"from_station_name\"] == group_trips.shift(-1)[\"from_station_name\"]) & \n",
    "            (group_trips[\"to_station_name\"] == group_trips.shift(-1)[\"to_station_name\"]) &\n",
    "            (group_trips[\"user_type\"] != group_trips.shift(-1)[\"user_type\"])].index\n",
    "mixed_trips = df.ix[(mixed_type_index+1) | mixed_type_index]\n",
    "mixed_trips_index = mixed_trips.index\n",
    "# Members only\n",
    "member_index = group_trips[(group_trips[\"from_station_name\"] == group_trips.shift(-1)[\"from_station_name\"]) & \n",
    "            (group_trips[\"to_station_name\"] == group_trips.shift(-1)[\"to_station_name\"]) &\n",
    "            (group_trips[\"user_type\"] == \"Member\") & \n",
    "            (group_trips.shift(-1)[\"user_type\"] == \"Member\")].index\n",
    "member_trips = df.ix[(member_index+1) | member_index]\n",
    "member_trips_index = member_trips.index\n",
    "# Casual only\n",
    "casual_index = group_trips[(group_trips[\"from_station_name\"] == group_trips.shift(-1)[\"from_station_name\"]) & \n",
    "            (group_trips[\"to_station_name\"] == group_trips.shift(-1)[\"to_station_name\"]) &\n",
    "            (group_trips[\"user_type\"] == \"Casual\") & \n",
    "            (group_trips.shift(-1)[\"user_type\"] == \"Casual\")].index\n",
    "casual_trips = df.ix[(casual_index+1) | casual_index]\n",
    "casual_trips_index = casual_trips.index"
   ]
  },
  {
   "cell_type": "code",
   "execution_count": 8,
   "metadata": {
    "collapsed": true
   },
   "outputs": [],
   "source": [
    "# group_trips dataframe for some reason has some single trips- \n",
    "# filter the group_trip df by those that are in the member_trip, casual_trip, or mixed_trip df.\n",
    "# This gets rid of the single line cases.\n",
    "group_trips = group_trips.ix[casual_trips_index | member_trips_index | mixed_trips_index]"
   ]
  },
  {
   "cell_type": "code",
   "execution_count": 9,
   "metadata": {},
   "outputs": [
    {
     "name": "stdout",
     "output_type": "stream",
     "text": [
      "There were 5942 group trips during Q3 2016, 2 percent of the total 367957 trips.\n",
      "Of the 5942 group trips, 4 percent of these (242 trips) are of mixed membership type.\n",
      "12 percent (724 trips) are of the membership type.\n",
      "84 percent or (4977 trips) are of the casual type.\n"
     ]
    }
   ],
   "source": [
    "# Trip numbers\n",
    "num_group_trips = len(group_trips)\n",
    "num_mixed_trips = len(mixed_trips)\n",
    "num_member_trips = len(member_trips)\n",
    "num_casual_trips = len(casual_trips)\n",
    "total_trips = len(df)\n",
    "# Percentages\n",
    "pct_group_trips = round(100*num_group_trips/total_trips)\n",
    "pct_mixed_trips = round(100*num_mixed_trips/num_group_trips)\n",
    "pct_member_trips = round(100*num_member_trips/num_group_trips)\n",
    "pct_casual_trips = round(100*num_casual_trips/num_group_trips)\n",
    "# Print summary statistics\n",
    "print(\"There were {num_group_trips} group trips during Q3 2016, {pct_group_trips} percent of the total {total_trips} trips.\".\n",
    "     format(num_group_trips = num_group_trips, \n",
    "            pct_group_trips = pct_group_trips,\n",
    "           total_trips = total_trips))\n",
    "print(\"Of the {num_group_trips} group trips, {pct_mixed_trips} percent of these ({num_mixed_trips} trips) are of mixed membership type.\".\n",
    "     format(num_group_trips = num_group_trips,\n",
    "           pct_mixed_trips = pct_mixed_trips,\n",
    "           num_mixed_trips =  num_mixed_trips))\n",
    "print(\"{pct_member_trips} percent ({num_member_trips} trips) are of the membership type.\".\n",
    "     format(pct_member_trips = pct_member_trips,\n",
    "           num_member_trips =  num_member_trips))\n",
    "print(\"{pct_casual_trips} percent or ({num_casual_trips} trips) are of the casual type.\".\n",
    "     format(pct_casual_trips = pct_casual_trips,\n",
    "           num_casual_trips =  num_casual_trips))"
   ]
  },
  {
   "cell_type": "code",
   "execution_count": 10,
   "metadata": {},
   "outputs": [
    {
     "name": "stdout",
     "output_type": "stream",
     "text": [
      "The average mixed trip is 17 minutes, while the average member trip is 14 minutes. The average casual trip is 32 minutes.\n"
     ]
    }
   ],
   "source": [
    "# How long is the average trip?\n",
    "avg_mixed = round(mixed_trips[\"trip_duration_seconds\"].agg(\"mean\")/60)\n",
    "avg_member = round(member_trips[\"trip_duration_seconds\"].agg(\"mean\")/60)\n",
    "avg_casual = round(casual_trips[\"trip_duration_seconds\"].agg(\"mean\")/60)\n",
    "print(\"The average mixed trip is {avg_mixed} minutes, \\\n",
    "while the average member trip is {avg_member} minutes. \\\n",
    "The average casual trip is {avg_casual} minutes.\".\n",
    "format(avg_casual = avg_casual, avg_member = avg_member, avg_mixed = avg_mixed))"
   ]
  },
  {
   "cell_type": "code",
   "execution_count": 11,
   "metadata": {
    "collapsed": true
   },
   "outputs": [],
   "source": [
    "# Where are the most popular starting and ending points? \n",
    "def make_trip_df(data, input_col, output_col):\n",
    "    # Get all the stations\n",
    "    stations = data[input_col].value_counts().index.tolist()\n",
    "    # Get number of trips\n",
    "    values = data[input_col].value_counts().tolist()\n",
    "    # Create dataframe of just stations and their total number of trips\n",
    "    # Set index to the station name\n",
    "    trip_df = pd.DataFrame({\"station\": stations, output_col: values})\n",
    "    trip_df.set_index(\"station\", inplace = True)\n",
    "    return trip_df\n",
    "\n",
    "mixed_departures = make_trip_df(mixed_trips, \"from_station_name\", \"total_departures\")\n",
    "member_departures = make_trip_df(member_trips, \"from_station_name\", \"total_departures\")\n",
    "casual_departures = make_trip_df(casual_trips, \"from_station_name\", \"total_departures\")\n",
    "mixed_arrivals = make_trip_df(mixed_trips, \"to_station_name\", \"total_arrivals\")\n",
    "member_arrivals = make_trip_df(member_trips, \"to_station_name\", \"total_arrivals\")\n",
    "casual_arrivals = make_trip_df(casual_trips, \"to_station_name\", \"total_arrivals\")"
   ]
  },
  {
   "cell_type": "code",
   "execution_count": 12,
   "metadata": {
    "collapsed": true
   },
   "outputs": [],
   "source": [
    "from IPython.display import display_html\n",
    "def display_side_by_side(*args):\n",
    "    html_str=''\n",
    "    for df in args:\n",
    "        html_str+=df.to_html()\n",
    "    display_html(html_str.replace('table','table style=\"display:inline\"'),raw=True)"
   ]
  },
  {
   "cell_type": "code",
   "execution_count": 13,
   "metadata": {},
   "outputs": [
    {
     "data": {
      "text/html": [
       "<table style=\"display:inline\" border=\"1\" class=\"dataframe\">\n",
       "  <thead>\n",
       "    <tr style=\"text-align: right;\">\n",
       "      <th></th>\n",
       "      <th>total_departures</th>\n",
       "    </tr>\n",
       "    <tr>\n",
       "      <th>station</th>\n",
       "      <th></th>\n",
       "    </tr>\n",
       "  </thead>\n",
       "  <tbody>\n",
       "    <tr>\n",
       "      <th>Elizabeth St / Edward St (Bus Terminal)</th>\n",
       "      <td>8</td>\n",
       "    </tr>\n",
       "    <tr>\n",
       "      <th>Strachan Ave / Princes' Blvd</th>\n",
       "      <td>8</td>\n",
       "    </tr>\n",
       "    <tr>\n",
       "      <th>York St / Queens Quay W</th>\n",
       "      <td>8</td>\n",
       "    </tr>\n",
       "    <tr>\n",
       "      <th>Madison Ave / Bloor St W</th>\n",
       "      <td>6</td>\n",
       "    </tr>\n",
       "    <tr>\n",
       "      <th>Augusta Ave / Denison Sq</th>\n",
       "      <td>6</td>\n",
       "    </tr>\n",
       "  </tbody>\n",
       "</table style=\"display:inline\"><table style=\"display:inline\" border=\"1\" class=\"dataframe\">\n",
       "  <thead>\n",
       "    <tr style=\"text-align: right;\">\n",
       "      <th></th>\n",
       "      <th>total_arrivals</th>\n",
       "    </tr>\n",
       "    <tr>\n",
       "      <th>station</th>\n",
       "      <th></th>\n",
       "    </tr>\n",
       "  </thead>\n",
       "  <tbody>\n",
       "    <tr>\n",
       "      <th>Queen St W / Ossington Ave</th>\n",
       "      <td>8</td>\n",
       "    </tr>\n",
       "    <tr>\n",
       "      <th>Dundas St / Yonge St</th>\n",
       "      <td>8</td>\n",
       "    </tr>\n",
       "    <tr>\n",
       "      <th>York St / Queens Quay W</th>\n",
       "      <td>6</td>\n",
       "    </tr>\n",
       "    <tr>\n",
       "      <th>161 Bleecker St (South of Wellesley)</th>\n",
       "      <td>6</td>\n",
       "    </tr>\n",
       "    <tr>\n",
       "      <th>Bay St / Queens Quay W (Ferry Terminal)</th>\n",
       "      <td>6</td>\n",
       "    </tr>\n",
       "  </tbody>\n",
       "</table style=\"display:inline\">"
      ]
     },
     "metadata": {},
     "output_type": "display_data"
    }
   ],
   "source": [
    "display_side_by_side(mixed_departures.head(5), mixed_arrivals.head(5))"
   ]
  },
  {
   "cell_type": "code",
   "execution_count": 14,
   "metadata": {},
   "outputs": [
    {
     "data": {
      "text/html": [
       "<table style=\"display:inline\" border=\"1\" class=\"dataframe\">\n",
       "  <thead>\n",
       "    <tr style=\"text-align: right;\">\n",
       "      <th></th>\n",
       "      <th>total_departures</th>\n",
       "    </tr>\n",
       "    <tr>\n",
       "      <th>station</th>\n",
       "      <th></th>\n",
       "    </tr>\n",
       "  </thead>\n",
       "  <tbody>\n",
       "    <tr>\n",
       "      <th>York St / Queens Quay W</th>\n",
       "      <td>194</td>\n",
       "    </tr>\n",
       "    <tr>\n",
       "      <th>Bay St / Queens Quay W (Ferry Terminal)</th>\n",
       "      <td>186</td>\n",
       "    </tr>\n",
       "    <tr>\n",
       "      <th>HTO Park (Queen's Quay W)</th>\n",
       "      <td>154</td>\n",
       "    </tr>\n",
       "    <tr>\n",
       "      <th>Bremner Blvd / Rees St</th>\n",
       "      <td>136</td>\n",
       "    </tr>\n",
       "    <tr>\n",
       "      <th>Queens Quay W / Lower Simcoe St</th>\n",
       "      <td>130</td>\n",
       "    </tr>\n",
       "  </tbody>\n",
       "</table style=\"display:inline\"><table style=\"display:inline\" border=\"1\" class=\"dataframe\">\n",
       "  <thead>\n",
       "    <tr style=\"text-align: right;\">\n",
       "      <th></th>\n",
       "      <th>total_arrivals</th>\n",
       "    </tr>\n",
       "    <tr>\n",
       "      <th>station</th>\n",
       "      <th></th>\n",
       "    </tr>\n",
       "  </thead>\n",
       "  <tbody>\n",
       "    <tr>\n",
       "      <th>Bay St / Queens Quay W (Ferry Terminal)</th>\n",
       "      <td>190</td>\n",
       "    </tr>\n",
       "    <tr>\n",
       "      <th>York St / Queens Quay W</th>\n",
       "      <td>159</td>\n",
       "    </tr>\n",
       "    <tr>\n",
       "      <th>HTO Park (Queen's Quay W)</th>\n",
       "      <td>148</td>\n",
       "    </tr>\n",
       "    <tr>\n",
       "      <th>Queens Quay W / Lower Simcoe St</th>\n",
       "      <td>137</td>\n",
       "    </tr>\n",
       "    <tr>\n",
       "      <th>Dockside Dr / Queens Quay E (Sugar Beach)</th>\n",
       "      <td>113</td>\n",
       "    </tr>\n",
       "  </tbody>\n",
       "</table style=\"display:inline\">"
      ]
     },
     "metadata": {},
     "output_type": "display_data"
    }
   ],
   "source": [
    "display_side_by_side(casual_departures.head(5), casual_arrivals.head(5))"
   ]
  },
  {
   "cell_type": "code",
   "execution_count": 15,
   "metadata": {},
   "outputs": [
    {
     "data": {
      "text/html": [
       "<table style=\"display:inline\" border=\"1\" class=\"dataframe\">\n",
       "  <thead>\n",
       "    <tr style=\"text-align: right;\">\n",
       "      <th></th>\n",
       "      <th>total_departures</th>\n",
       "    </tr>\n",
       "    <tr>\n",
       "      <th>station</th>\n",
       "      <th></th>\n",
       "    </tr>\n",
       "  </thead>\n",
       "  <tbody>\n",
       "    <tr>\n",
       "      <th>Dockside Dr / Queens Quay E (Sugar Beach)</th>\n",
       "      <td>20</td>\n",
       "    </tr>\n",
       "    <tr>\n",
       "      <th>King St W / Douro St</th>\n",
       "      <td>14</td>\n",
       "    </tr>\n",
       "    <tr>\n",
       "      <th>College St W / Markham St</th>\n",
       "      <td>14</td>\n",
       "    </tr>\n",
       "    <tr>\n",
       "      <th>Queen St W / Portland St</th>\n",
       "      <td>14</td>\n",
       "    </tr>\n",
       "    <tr>\n",
       "      <th>University Ave / King St W</th>\n",
       "      <td>14</td>\n",
       "    </tr>\n",
       "  </tbody>\n",
       "</table style=\"display:inline\"><table style=\"display:inline\" border=\"1\" class=\"dataframe\">\n",
       "  <thead>\n",
       "    <tr style=\"text-align: right;\">\n",
       "      <th></th>\n",
       "      <th>total_arrivals</th>\n",
       "    </tr>\n",
       "    <tr>\n",
       "      <th>station</th>\n",
       "      <th></th>\n",
       "    </tr>\n",
       "  </thead>\n",
       "  <tbody>\n",
       "    <tr>\n",
       "      <th>Princess St / Adelaide St</th>\n",
       "      <td>20</td>\n",
       "    </tr>\n",
       "    <tr>\n",
       "      <th>Beverly  St / Dundas St W</th>\n",
       "      <td>20</td>\n",
       "    </tr>\n",
       "    <tr>\n",
       "      <th>Euclid Ave / Bloor St W</th>\n",
       "      <td>16</td>\n",
       "    </tr>\n",
       "    <tr>\n",
       "      <th>University Ave / Elm St</th>\n",
       "      <td>16</td>\n",
       "    </tr>\n",
       "    <tr>\n",
       "      <th>Queen St W / Portland St</th>\n",
       "      <td>14</td>\n",
       "    </tr>\n",
       "  </tbody>\n",
       "</table style=\"display:inline\">"
      ]
     },
     "metadata": {},
     "output_type": "display_data"
    }
   ],
   "source": [
    "display_side_by_side(member_departures.head(5), member_arrivals.head(5))"
   ]
  },
  {
   "cell_type": "markdown",
   "metadata": {},
   "source": [
    "For mixed trips, Young-Dundas Square, the waterfront, and Queen Street West are all popular. For casual trips, more people seem to enjoy biking along the waterfront. For member trips, it's a bit more residential, which seems to imply that member group trips in the summer are more done by people who live in Toronto and are trying going around with their friend(s) in their neighbourhood, not so much for sightseeing purposes."
   ]
  }
 ],
 "metadata": {
  "kernelspec": {
   "display_name": "Python 3",
   "language": "python",
   "name": "python3"
  },
  "language_info": {
   "codemirror_mode": {
    "name": "ipython",
    "version": 3
   },
   "file_extension": ".py",
   "mimetype": "text/x-python",
   "name": "python",
   "nbconvert_exporter": "python",
   "pygments_lexer": "ipython3",
   "version": "3.6.0"
  }
 },
 "nbformat": 4,
 "nbformat_minor": 2
}
